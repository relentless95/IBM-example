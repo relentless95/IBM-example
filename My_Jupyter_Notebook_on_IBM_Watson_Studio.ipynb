{
 "cells": [
  {
   "cell_type": "markdown",
   "metadata": {
    "collapsed": true
   },
   "source": [
    "# My Jupyter Notebook on IBM Watson Studio\n",
    "\n",
    "\n",
    "\n",
    "\n"
   ]
  },
  {
   "cell_type": "markdown",
   "metadata": {},
   "source": [
    "**MARC A**\n",
    "\n",
    "\n",
    "Data Analyst"
   ]
  },
  {
   "cell_type": "markdown",
   "metadata": {},
   "source": [
    "*i am interested in the technical application of data science methods in data analytics. i.e building credit risk fraud models, recommenders etc*"
   ]
  },
  {
   "cell_type": "markdown",
   "metadata": {},
   "source": [
    "### the code below will add 2 and 3"
   ]
  },
  {
   "cell_type": "code",
   "execution_count": 3,
   "metadata": {},
   "outputs": [
    {
     "data": {
      "text/plain": [
       "5"
      ]
     },
     "execution_count": 3,
     "metadata": {},
     "output_type": "execute_result"
    }
   ],
   "source": [
    "2+3"
   ]
  },
  {
   "cell_type": "markdown",
   "metadata": {},
   "source": [
    "1. first item\n",
    "2. second item\n",
    "3. third item\n",
    "4. fourth item\n",
    "\n",
    "---------------------------------------------------------------------------------------------------------\n",
    "<hr />\n",
    "<hr />\n",
    "\n",
    "\n",
    "* item 1\n",
    "* item 2\n",
    "* item 3\n",
    "---------------------------------------------------------------------------------------------------------\n",
    "> blockquote 1\n",
    "> > blockquote\n",
    "\n",
    "----------------------------------------------------------------------------------------------------------\n",
    "```\n",
    "this is a code block\n",
    "```\n",
    "\n",
    "----------------------------------------------------------------------------------------------------------\n",
    "\n",
    "\n",
    "![the sea](https://images.unsplash.com/photo-1505118380757-91f5f5632de0?ixlib=rb-1.2.1&ixid=MnwxMjA3fDB8MHxwaG90by1wYWdlfHx8fGVufDB8fHx8&auto=format&fit=crop&w=326&q=80)\n",
    "\n",
    "\n",
    "---------------------------------------------------------------------------------------------------------\n",
    "[Markdown syntax](https://www.markdownguide.org/basic-syntax/#:~:text=To%20italicize%20text%2C%20add%20one,without%20spaces%20around%20the%20letters.&text=Italicized%20text%20is%20the%20*cat's%20meow*. \"Markdwon syntax\").\n",
    "\n",
    "---------------------------------------------------------------------------------------------------------"
   ]
  },
  {
   "cell_type": "code",
   "execution_count": null,
   "metadata": {},
   "outputs": [],
   "source": []
  },
  {
   "cell_type": "code",
   "execution_count": null,
   "metadata": {},
   "outputs": [],
   "source": []
  }
 ],
 "metadata": {
  "kernelspec": {
   "display_name": "Python 3.9",
   "language": "python",
   "name": "python3"
  },
  "language_info": {
   "codemirror_mode": {
    "name": "ipython",
    "version": 3
   },
   "file_extension": ".py",
   "mimetype": "text/x-python",
   "name": "python",
   "nbconvert_exporter": "python",
   "pygments_lexer": "ipython3",
   "version": "3.9.12"
  }
 },
 "nbformat": 4,
 "nbformat_minor": 1
}
